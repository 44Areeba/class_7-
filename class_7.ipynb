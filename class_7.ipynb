{
 "cells": [
  {
   "cell_type": "markdown",
   "id": "6645d76c",
   "metadata": {},
   "source": [
    "#Functions"
   ]
  },
  {
   "cell_type": "markdown",
   "id": "69c043cc",
   "metadata": {},
   "source": [
    "buit in\n",
    "user defined"
   ]
  },
  {
   "cell_type": "code",
   "execution_count": 1,
   "id": "dba8d523",
   "metadata": {},
   "outputs": [
    {
     "name": "stdout",
     "output_type": "stream",
     "text": [
      "Hello\n"
     ]
    }
   ],
   "source": [
    "print(\"Hello\")"
   ]
  },
  {
   "cell_type": "code",
   "execution_count": 2,
   "id": "1ea56dfc",
   "metadata": {},
   "outputs": [
    {
     "data": {
      "text/plain": [
       "5"
      ]
     },
     "execution_count": 2,
     "metadata": {},
     "output_type": "execute_result"
    }
   ],
   "source": [
    "len(\"Hello\")"
   ]
  },
  {
   "cell_type": "code",
   "execution_count": 3,
   "id": "b267c50c",
   "metadata": {},
   "outputs": [
    {
     "ename": "IndentationError",
     "evalue": "unexpected indent (<ipython-input-3-3b0de68c77cb>, line 2)",
     "output_type": "error",
     "traceback": [
      "\u001b[1;36m  File \u001b[1;32m\"<ipython-input-3-3b0de68c77cb>\"\u001b[1;36m, line \u001b[1;32m2\u001b[0m\n\u001b[1;33m    Advantage : code reuseablity\u001b[0m\n\u001b[1;37m    ^\u001b[0m\n\u001b[1;31mIndentationError\u001b[0m\u001b[1;31m:\u001b[0m unexpected indent\n"
     ]
    }
   ],
   "source": [
    "What is a function?\n",
    "  Advantage : code reuseablity\n",
    "              \n",
    "              code simplicity/readablity\n",
    "              bug resolving   "
   ]
  },
  {
   "cell_type": "code",
   "execution_count": null,
   "id": "6ec2951b",
   "metadata": {},
   "outputs": [],
   "source": [
    "#Function define\n",
    "# Function call\n",
    "# Result"
   ]
  },
  {
   "cell_type": "code",
   "execution_count": null,
   "id": "9fef3882",
   "metadata": {},
   "outputs": [],
   "source": [
    "def function_name():\n",
    "    print(\"I am a body of  my function\")"
   ]
  },
  {
   "cell_type": "code",
   "execution_count": null,
   "id": "1e5ceb37",
   "metadata": {},
   "outputs": [],
   "source": [
    "## calling a function"
   ]
  },
  {
   "cell_type": "code",
   "execution_count": null,
   "id": "554ffabe",
   "metadata": {},
   "outputs": [],
   "source": [
    "function_name()"
   ]
  },
  {
   "cell_type": "code",
   "execution_count": null,
   "id": "ff7fe070",
   "metadata": {},
   "outputs": [],
   "source": [
    "function_name()\n",
    "function_name()\n",
    "function_name()\n",
    "function_name()\n",
    "function_name()\n",
    "function_name()"
   ]
  },
  {
   "cell_type": "code",
   "execution_count": null,
   "id": "4411e135",
   "metadata": {},
   "outputs": [],
   "source": [
    "def greetUser():\n",
    "    print(\"Welcome\")"
   ]
  },
  {
   "cell_type": "code",
   "execution_count": null,
   "id": "67494fc4",
   "metadata": {},
   "outputs": [],
   "source": [
    "greetUser()"
   ]
  },
  {
   "cell_type": "code",
   "execution_count": null,
   "id": "4a375a5c",
   "metadata": {},
   "outputs": [],
   "source": [
    "Parameter and Arguments\n",
    "Parameter are expected values given from user\n",
    "Arguments are values that user supplies to function"
   ]
  },
  {
   "cell_type": "code",
   "execution_count": null,
   "id": "ab561dcb",
   "metadata": {},
   "outputs": [],
   "source": [
    "#parameterized function\n",
    "\n",
    "def greetUser(userName):#parameter\n",
    "    \n",
    "    name=userName.upper()\n",
    "    print(f\"Welcome {name}\")"
   ]
  },
  {
   "cell_type": "code",
   "execution_count": null,
   "id": "38fd9dd1",
   "metadata": {},
   "outputs": [],
   "source": [
    "greetUser()"
   ]
  },
  {
   "cell_type": "code",
   "execution_count": null,
   "id": "338a2868",
   "metadata": {},
   "outputs": [],
   "source": [
    "greetUser(\"Mr Bean\")"
   ]
  },
  {
   "cell_type": "code",
   "execution_count": null,
   "id": "cff77c01",
   "metadata": {},
   "outputs": [],
   "source": [
    "greetUser(\"Areeba Khan\")"
   ]
  },
  {
   "cell_type": "code",
   "execution_count": null,
   "id": "a03b180f",
   "metadata": {},
   "outputs": [],
   "source": [
    "def bio_data(name,age,gender,nationality,email,contact):\n",
    "    print(f\"\"\"\n",
    "    BIO DATA\n",
    "    ____________________\n",
    "    \n",
    "    Name of student:{name}\n",
    "    Age of student:{age}\n",
    "    Nationality:{nationality}\n",
    "    Email:{email}\n",
    "    Contact:{contact}\n",
    "    Gender:{gender}\n",
    "    \n",
    "    \"\"\"\n",
    "    )"
   ]
  },
  {
   "cell_type": "code",
   "execution_count": null,
   "id": "ee3f0775",
   "metadata": {},
   "outputs": [],
   "source": [
    "#positional arguments: are assigned according to positional in the parameters\n",
    "bio_data(\"Areeba\",20,\"Pakistani\",\"abc.com\",\"123456\",\"Female\")"
   ]
  },
  {
   "cell_type": "code",
   "execution_count": null,
   "id": "8dc69080",
   "metadata": {},
   "outputs": [],
   "source": [
    "def fullName(fname,lname,age):\n",
    "    print(f\"{fname} {lname}\")\n",
    "    print(f\"age is {age}\")"
   ]
  },
  {
   "cell_type": "code",
   "execution_count": null,
   "id": "f40a34bd",
   "metadata": {},
   "outputs": [],
   "source": [
    "fullName(\"Areeba\",\"18\",\"khan\")"
   ]
  },
  {
   "cell_type": "code",
   "execution_count": null,
   "id": "43ff4fc0",
   "metadata": {},
   "outputs": [],
   "source": [
    "fullName(\"Areeba\",\"Khan\",\"18\")"
   ]
  },
  {
   "cell_type": "code",
   "execution_count": null,
   "id": "878cc5ce",
   "metadata": {},
   "outputs": [],
   "source": [
    "fullName(age=20,lname=\"khan\",fname=\"Areeba\")"
   ]
  },
  {
   "cell_type": "code",
   "execution_count": 7,
   "id": "d69a7c5b",
   "metadata": {},
   "outputs": [],
   "source": [
    "def areaOfTriangle(l,b):\n",
    "    area=0.5*l*b\n",
    "    print(f\"Area of triangle is {area} sq.cm\")"
   ]
  },
  {
   "cell_type": "code",
   "execution_count": 8,
   "id": "1d867757",
   "metadata": {},
   "outputs": [
    {
     "name": "stdout",
     "output_type": "stream",
     "text": [
      "Area of triangle is 460.0 sq.cm\n"
     ]
    }
   ],
   "source": [
    "areaOfTriangle(23,40)"
   ]
  },
  {
   "cell_type": "code",
   "execution_count": 9,
   "id": "c6a596ab",
   "metadata": {},
   "outputs": [
    {
     "name": "stdout",
     "output_type": "stream",
     "text": [
      "Area of triangle is 30.0 sq.cm\n"
     ]
    }
   ],
   "source": [
    "areaOfTriangle(12,5)"
   ]
  },
  {
   "cell_type": "code",
   "execution_count": 16,
   "id": "25a01799",
   "metadata": {},
   "outputs": [],
   "source": [
    "def taxCalculator(income):    \n",
    "    tax_amount = 0    \n",
    "    if income >=1000000:        \n",
    "        tax_amount = income * .20        \n",
    "    elif income >=500000:        \n",
    "        tax_amount = income * .10\n",
    "    elif income >=250000:        \n",
    "        tax_amount = income * .05\n",
    "    else:\n",
    "        tax_amount = income  * 0        \n",
    "    return tax_amount\n"
   ]
  },
  {
   "cell_type": "code",
   "execution_count": 17,
   "id": "329e7a48",
   "metadata": {},
   "outputs": [
    {
     "data": {
      "text/plain": [
       "200000.0"
      ]
     },
     "execution_count": 17,
     "metadata": {},
     "output_type": "execute_result"
    }
   ],
   "source": [
    "taxCalculator(1000000)"
   ]
  },
  {
   "cell_type": "code",
   "execution_count": 18,
   "id": "1725f15d",
   "metadata": {},
   "outputs": [
    {
     "data": {
      "text/plain": [
       "60000.0"
      ]
     },
     "execution_count": 18,
     "metadata": {},
     "output_type": "execute_result"
    }
   ],
   "source": [
    "taxCalculator(600000)"
   ]
  },
  {
   "cell_type": "code",
   "execution_count": 19,
   "id": "bd150201",
   "metadata": {},
   "outputs": [
    {
     "data": {
      "text/plain": [
       "400000.0"
      ]
     },
     "execution_count": 19,
     "metadata": {},
     "output_type": "execute_result"
    }
   ],
   "source": [
    "taxCalculator(2000000)"
   ]
  },
  {
   "cell_type": "code",
   "execution_count": 20,
   "id": "c1fdd3c0",
   "metadata": {},
   "outputs": [],
   "source": [
    "def grossSalary(salary,tax):\n",
    "    gross = salary - tax\n",
    "    print(f\"Gross salary is {gross}\")      "
   ]
  },
  {
   "cell_type": "code",
   "execution_count": 21,
   "id": "ef00cbf4",
   "metadata": {},
   "outputs": [
    {
     "name": "stdout",
     "output_type": "stream",
     "text": [
      "Gross salary is 630000.0\n"
     ]
    }
   ],
   "source": [
    "grossSalary(700000,taxCalculator(700000))#None"
   ]
  },
  {
   "cell_type": "code",
   "execution_count": 24,
   "id": "d08f3670",
   "metadata": {},
   "outputs": [],
   "source": [
    "def abc():\n",
    "    print(\"i am areeba\")\n",
    "    a=1000\n",
    "    print(a)"
   ]
  },
  {
   "cell_type": "code",
   "execution_count": 27,
   "id": "3f7d085e",
   "metadata": {},
   "outputs": [],
   "source": [
    "def ank():\n",
    "    print(\"i am  beeba\")\n",
    "    b=100\n",
    "    print(b)"
   ]
  },
  {
   "cell_type": "code",
   "execution_count": null,
   "id": "7c8bcb1a",
   "metadata": {},
   "outputs": [],
   "source": [
    "### Local Variables and Global Variables\n",
    " #- Local Variables: All the vairables defined inside a function body are local \n",
    "  # and CAN Not be accessed out side the function\n",
    " #- Global Variables: All the vairables defined outside a function body are gloabl and CAN be accessed outside as well as inside the function body"
   ]
  },
  {
   "cell_type": "code",
   "execution_count": 25,
   "id": "29706ae3",
   "metadata": {},
   "outputs": [
    {
     "name": "stdout",
     "output_type": "stream",
     "text": [
      "i am areeba\n",
      "1000\n"
     ]
    }
   ],
   "source": [
    "abc()"
   ]
  },
  {
   "cell_type": "code",
   "execution_count": 28,
   "id": "8105f016",
   "metadata": {},
   "outputs": [
    {
     "name": "stdout",
     "output_type": "stream",
     "text": [
      "i am  beeba\n",
      "100\n"
     ]
    }
   ],
   "source": [
    "ank()"
   ]
  },
  {
   "cell_type": "code",
   "execution_count": 26,
   "id": "6fe7046e",
   "metadata": {},
   "outputs": [
    {
     "ename": "NameError",
     "evalue": "name 'a' is not defined",
     "output_type": "error",
     "traceback": [
      "\u001b[1;31m---------------------------------------------------------------------------\u001b[0m",
      "\u001b[1;31mNameError\u001b[0m                                 Traceback (most recent call last)",
      "\u001b[1;32m<ipython-input-26-bca0e2660b9f>\u001b[0m in \u001b[0;36m<module>\u001b[1;34m\u001b[0m\n\u001b[1;32m----> 1\u001b[1;33m \u001b[0mprint\u001b[0m\u001b[1;33m(\u001b[0m\u001b[0ma\u001b[0m\u001b[1;33m)\u001b[0m\u001b[1;33m\u001b[0m\u001b[1;33m\u001b[0m\u001b[0m\n\u001b[0m",
      "\u001b[1;31mNameError\u001b[0m: name 'a' is not defined"
     ]
    }
   ],
   "source": [
    "print(a)"
   ]
  },
  {
   "cell_type": "code",
   "execution_count": 31,
   "id": "d9dfed8e",
   "metadata": {},
   "outputs": [],
   "source": [
    "globalvariable=\" i am global\"\n",
    "def abc():\n",
    "    print(\" i am abc\")\n",
    "    print(globalvariable)\n",
    "    a=1000 #local variable\n",
    "    print(a)# local variable accessed inside the function body\n",
    "    return\" I am  returned value\""
   ]
  },
  {
   "cell_type": "code",
   "execution_count": 32,
   "id": "2ae63666",
   "metadata": {},
   "outputs": [
    {
     "name": "stdout",
     "output_type": "stream",
     "text": [
      " i am abc\n",
      " i am global\n",
      "1000\n"
     ]
    },
    {
     "data": {
      "text/plain": [
       "' I am  returned value'"
      ]
     },
     "execution_count": 32,
     "metadata": {},
     "output_type": "execute_result"
    }
   ],
   "source": [
    "abc()"
   ]
  },
  {
   "cell_type": "code",
   "execution_count": 33,
   "id": "944f59e3",
   "metadata": {},
   "outputs": [
    {
     "name": "stdout",
     "output_type": "stream",
     "text": [
      " i am global\n"
     ]
    }
   ],
   "source": [
    "print(globalvariable)"
   ]
  },
  {
   "cell_type": "code",
   "execution_count": 34,
   "id": "8d3fb269",
   "metadata": {},
   "outputs": [
    {
     "name": "stdout",
     "output_type": "stream",
     "text": [
      " i am abc\n",
      " i am global\n",
      "1000\n",
      " I am  returned value\n"
     ]
    }
   ],
   "source": [
    "print(abc())"
   ]
  },
  {
   "cell_type": "code",
   "execution_count": 46,
   "id": "26050690",
   "metadata": {},
   "outputs": [],
   "source": [
    "h=13"
   ]
  },
  {
   "cell_type": "code",
   "execution_count": 47,
   "id": "2a237a2d",
   "metadata": {},
   "outputs": [],
   "source": [
    "hh=21\n",
    "def xyz():\n",
    "    print(hh)\n",
    "    h+=1\n",
    "    print(h)"
   ]
  },
  {
   "cell_type": "code",
   "execution_count": 48,
   "id": "d1ad8818",
   "metadata": {},
   "outputs": [
    {
     "name": "stdout",
     "output_type": "stream",
     "text": [
      "21\n"
     ]
    },
    {
     "ename": "UnboundLocalError",
     "evalue": "local variable 'h' referenced before assignment",
     "output_type": "error",
     "traceback": [
      "\u001b[1;31m---------------------------------------------------------------------------\u001b[0m",
      "\u001b[1;31mUnboundLocalError\u001b[0m                         Traceback (most recent call last)",
      "\u001b[1;32m<ipython-input-48-228a7b6e2e2b>\u001b[0m in \u001b[0;36m<module>\u001b[1;34m\u001b[0m\n\u001b[1;32m----> 1\u001b[1;33m \u001b[0mxyz\u001b[0m\u001b[1;33m(\u001b[0m\u001b[1;33m)\u001b[0m\u001b[1;33m\u001b[0m\u001b[1;33m\u001b[0m\u001b[0m\n\u001b[0m",
      "\u001b[1;32m<ipython-input-47-9339ffb1f087>\u001b[0m in \u001b[0;36mxyz\u001b[1;34m()\u001b[0m\n\u001b[0;32m      2\u001b[0m \u001b[1;32mdef\u001b[0m \u001b[0mxyz\u001b[0m\u001b[1;33m(\u001b[0m\u001b[1;33m)\u001b[0m\u001b[1;33m:\u001b[0m\u001b[1;33m\u001b[0m\u001b[1;33m\u001b[0m\u001b[0m\n\u001b[0;32m      3\u001b[0m     \u001b[0mprint\u001b[0m\u001b[1;33m(\u001b[0m\u001b[0mhh\u001b[0m\u001b[1;33m)\u001b[0m\u001b[1;33m\u001b[0m\u001b[1;33m\u001b[0m\u001b[0m\n\u001b[1;32m----> 4\u001b[1;33m     \u001b[0mh\u001b[0m\u001b[1;33m+=\u001b[0m\u001b[1;36m1\u001b[0m\u001b[1;33m\u001b[0m\u001b[1;33m\u001b[0m\u001b[0m\n\u001b[0m\u001b[0;32m      5\u001b[0m     \u001b[0mprint\u001b[0m\u001b[1;33m(\u001b[0m\u001b[0mh\u001b[0m\u001b[1;33m)\u001b[0m\u001b[1;33m\u001b[0m\u001b[1;33m\u001b[0m\u001b[0m\n",
      "\u001b[1;31mUnboundLocalError\u001b[0m: local variable 'h' referenced before assignment"
     ]
    }
   ],
   "source": [
    "xyz()"
   ]
  },
  {
   "cell_type": "code",
   "execution_count": 49,
   "id": "521833ea",
   "metadata": {},
   "outputs": [
    {
     "name": "stdout",
     "output_type": "stream",
     "text": [
      "13\n"
     ]
    }
   ],
   "source": [
    "print(h)"
   ]
  },
  {
   "cell_type": "code",
   "execution_count": 50,
   "id": "a3fe385a",
   "metadata": {},
   "outputs": [],
   "source": [
    "def add (num1,num2):\n",
    "    return num1+num2\n",
    "    print(\"I am after return\")"
   ]
  },
  {
   "cell_type": "code",
   "execution_count": 51,
   "id": "05aaa0f2",
   "metadata": {},
   "outputs": [],
   "source": [
    "res=add(2,3)"
   ]
  },
  {
   "cell_type": "code",
   "execution_count": 52,
   "id": "f91c6b1e",
   "metadata": {},
   "outputs": [
    {
     "data": {
      "text/plain": [
       "5"
      ]
     },
     "execution_count": 52,
     "metadata": {},
     "output_type": "execute_result"
    }
   ],
   "source": [
    "res"
   ]
  },
  {
   "cell_type": "code",
   "execution_count": 53,
   "id": "5b7a9a63",
   "metadata": {},
   "outputs": [
    {
     "name": "stdout",
     "output_type": "stream",
     "text": [
      "this is returned5\n"
     ]
    }
   ],
   "source": [
    "print(f\"this is returned{add(2,3)}\")"
   ]
  },
  {
   "cell_type": "code",
   "execution_count": 54,
   "id": "d45e47e2",
   "metadata": {},
   "outputs": [
    {
     "ename": "TypeError",
     "evalue": "unsupported operand type(s) for +: 'NoneType' and 'int'",
     "output_type": "error",
     "traceback": [
      "\u001b[1;31m---------------------------------------------------------------------------\u001b[0m",
      "\u001b[1;31mTypeError\u001b[0m                                 Traceback (most recent call last)",
      "\u001b[1;32m<ipython-input-54-6f54a5cbcc65>\u001b[0m in \u001b[0;36m<module>\u001b[1;34m\u001b[0m\n\u001b[1;32m----> 1\u001b[1;33m \u001b[0mprint\u001b[0m\u001b[1;33m(\u001b[0m\u001b[1;33m(\u001b[0m\u001b[0madd\u001b[0m\u001b[1;33m(\u001b[0m\u001b[1;33m[\u001b[0m\u001b[1;36m1\u001b[0m\u001b[1;33m,\u001b[0m\u001b[1;36m4\u001b[0m\u001b[1;33m,\u001b[0m\u001b[1;36m3\u001b[0m\u001b[1;33m,\u001b[0m\u001b[1;36m67\u001b[0m\u001b[1;33m,\u001b[0m\u001b[1;36m2\u001b[0m\u001b[1;33m]\u001b[0m\u001b[1;33m.\u001b[0m\u001b[0msort\u001b[0m\u001b[1;33m(\u001b[0m\u001b[1;33m)\u001b[0m\u001b[1;33m,\u001b[0m\u001b[1;36m3\u001b[0m\u001b[1;33m)\u001b[0m\u001b[1;33m)\u001b[0m\u001b[1;33m)\u001b[0m\u001b[1;33m\u001b[0m\u001b[1;33m\u001b[0m\u001b[0m\n\u001b[0m",
      "\u001b[1;32m<ipython-input-50-f14848fcbb99>\u001b[0m in \u001b[0;36madd\u001b[1;34m(num1, num2)\u001b[0m\n\u001b[0;32m      1\u001b[0m \u001b[1;32mdef\u001b[0m \u001b[0madd\u001b[0m \u001b[1;33m(\u001b[0m\u001b[0mnum1\u001b[0m\u001b[1;33m,\u001b[0m\u001b[0mnum2\u001b[0m\u001b[1;33m)\u001b[0m\u001b[1;33m:\u001b[0m\u001b[1;33m\u001b[0m\u001b[1;33m\u001b[0m\u001b[0m\n\u001b[1;32m----> 2\u001b[1;33m     \u001b[1;32mreturn\u001b[0m \u001b[0mnum1\u001b[0m\u001b[1;33m+\u001b[0m\u001b[0mnum2\u001b[0m\u001b[1;33m\u001b[0m\u001b[1;33m\u001b[0m\u001b[0m\n\u001b[0m\u001b[0;32m      3\u001b[0m     \u001b[0mprint\u001b[0m\u001b[1;33m(\u001b[0m\u001b[1;34m\"I am after return\"\u001b[0m\u001b[1;33m)\u001b[0m\u001b[1;33m\u001b[0m\u001b[1;33m\u001b[0m\u001b[0m\n",
      "\u001b[1;31mTypeError\u001b[0m: unsupported operand type(s) for +: 'NoneType' and 'int'"
     ]
    }
   ],
   "source": [
    "print((add([1,4,3,67,2].sort(),3)))"
   ]
  },
  {
   "cell_type": "code",
   "execution_count": 59,
   "id": "a0c43072",
   "metadata": {},
   "outputs": [],
   "source": [
    "def SquareCube(num):\n",
    "    s=num**2\n",
    "    c=num**3\n",
    "    return s,c"
   ]
  },
  {
   "cell_type": "code",
   "execution_count": 60,
   "id": "c068dcbe",
   "metadata": {},
   "outputs": [],
   "source": [
    "square,cube= SquareCube(5)"
   ]
  },
  {
   "cell_type": "code",
   "execution_count": 61,
   "id": "4b8d5896",
   "metadata": {},
   "outputs": [
    {
     "data": {
      "text/plain": [
       "25"
      ]
     },
     "execution_count": 61,
     "metadata": {},
     "output_type": "execute_result"
    }
   ],
   "source": [
    "square"
   ]
  },
  {
   "cell_type": "code",
   "execution_count": 62,
   "id": "c0c4b736",
   "metadata": {},
   "outputs": [
    {
     "data": {
      "text/plain": [
       "125"
      ]
     },
     "execution_count": 62,
     "metadata": {},
     "output_type": "execute_result"
    }
   ],
   "source": [
    "cube"
   ]
  },
  {
   "cell_type": "code",
   "execution_count": 72,
   "id": "4d8f218f",
   "metadata": {},
   "outputs": [],
   "source": [
    "a=(100,200)#packing"
   ]
  },
  {
   "cell_type": "code",
   "execution_count": 73,
   "id": "88354bb0",
   "metadata": {},
   "outputs": [],
   "source": [
    "me,you = a"
   ]
  },
  {
   "cell_type": "code",
   "execution_count": 74,
   "id": "c01fc356",
   "metadata": {},
   "outputs": [
    {
     "data": {
      "text/plain": [
       "100"
      ]
     },
     "execution_count": 74,
     "metadata": {},
     "output_type": "execute_result"
    }
   ],
   "source": [
    "me"
   ]
  },
  {
   "cell_type": "code",
   "execution_count": 75,
   "id": "1c5fea59",
   "metadata": {},
   "outputs": [
    {
     "data": {
      "text/plain": [
       "200"
      ]
     },
     "execution_count": 75,
     "metadata": {},
     "output_type": "execute_result"
    }
   ],
   "source": [
    "you"
   ]
  },
  {
   "cell_type": "markdown",
   "id": "8b871e7f",
   "metadata": {},
   "source": [
    "### Default values"
   ]
  },
  {
   "cell_type": "code",
   "execution_count": 76,
   "id": "1d5972c7",
   "metadata": {},
   "outputs": [
    {
     "name": "stdout",
     "output_type": "stream",
     "text": [
      "Areeba\n"
     ]
    }
   ],
   "source": [
    "print(\"Areeba\")"
   ]
  },
  {
   "cell_type": "code",
   "execution_count": 77,
   "id": "a03db2ce",
   "metadata": {},
   "outputs": [],
   "source": [
    "def salaryCalc(basic,bonus=0,comission=500):#dafault value must be last para\n",
    "    \"\"\"Hello i am  salary calculator\"\"\"\n",
    "    total=basic+comission\n",
    "    return total"
   ]
  },
  {
   "cell_type": "code",
   "execution_count": 78,
   "id": "561b1ee6",
   "metadata": {},
   "outputs": [],
   "source": [
    "def salaryCalc(basic,bonus=0,comission=500):#default values must be last para\n",
    "    \"\"\"Hello i am salary cal\"\"\"\n",
    "    total= basic+comission\n",
    "    return total"
   ]
  },
  {
   "cell_type": "code",
   "execution_count": 79,
   "id": "842bcde4",
   "metadata": {},
   "outputs": [
    {
     "data": {
      "text/plain": [
       "10500"
      ]
     },
     "execution_count": 79,
     "metadata": {},
     "output_type": "execute_result"
    }
   ],
   "source": [
    "salaryCalc(10000,2000)"
   ]
  },
  {
   "cell_type": "code",
   "execution_count": 80,
   "id": "c190f611",
   "metadata": {},
   "outputs": [
    {
     "data": {
      "text/plain": [
       "2000"
      ]
     },
     "execution_count": 80,
     "metadata": {},
     "output_type": "execute_result"
    }
   ],
   "source": [
    "salaryCalc(1500)"
   ]
  },
  {
   "cell_type": "code",
   "execution_count": 81,
   "id": "2872c664",
   "metadata": {},
   "outputs": [],
   "source": [
    "def build_person(first_name,last_name):\n",
    "    person={'first':first_name, 'last': last_name}\n",
    "    return person"
   ]
  },
  {
   "cell_type": "code",
   "execution_count": 83,
   "id": "d999496b",
   "metadata": {},
   "outputs": [
    {
     "name": "stdout",
     "output_type": "stream",
     "text": [
      "{'first': 'jimi', 'last': 'hendrix'}\n"
     ]
    }
   ],
   "source": [
    "musician=build_person('jimi','hendrix')\n",
    "print(musician)"
   ]
  },
  {
   "cell_type": "code",
   "execution_count": 85,
   "id": "a82a6f38",
   "metadata": {},
   "outputs": [],
   "source": [
    "def build_person(first_name,last_name,age=' '):\n",
    "    person={'first':first_name, 'last':last_name}\n",
    "    if age:\n",
    "        person['age']=age\n",
    "        return person"
   ]
  },
  {
   "cell_type": "code",
   "execution_count": 86,
   "id": "f67ed772",
   "metadata": {},
   "outputs": [
    {
     "name": "stdout",
     "output_type": "stream",
     "text": [
      "{'first': 'jimi', 'last': 'hendrix', 'age': 27}\n"
     ]
    }
   ],
   "source": [
    "musician=build_person('jimi','hendrix',age=27)\n",
    "print(musician)"
   ]
  },
  {
   "cell_type": "code",
   "execution_count": 87,
   "id": "b23ff678",
   "metadata": {},
   "outputs": [
    {
     "name": "stdout",
     "output_type": "stream",
     "text": [
      "{'first': 'areeba', 'last': 'khan', 'age': ' '}\n"
     ]
    }
   ],
   "source": [
    "musician=build_person('areeba','khan')\n",
    "print(musician)"
   ]
  },
  {
   "cell_type": "code",
   "execution_count": 2,
   "id": "dffd86b2",
   "metadata": {},
   "outputs": [],
   "source": [
    "def greet_users(names):\n",
    "    for name in names:\n",
    "        msg=\"Hello, \" + name.title()+ \"!\"\n",
    "        print(msg)"
   ]
  },
  {
   "cell_type": "code",
   "execution_count": 3,
   "id": "ac642e7a",
   "metadata": {},
   "outputs": [
    {
     "name": "stdout",
     "output_type": "stream",
     "text": [
      "Hello, Hannah!\n",
      "Hello, Ty!\n",
      "Hello, Margot!\n"
     ]
    }
   ],
   "source": [
    "usernames=['hannah','ty','margot']\n",
    "greet_users(usernames)\n"
   ]
  },
  {
   "cell_type": "code",
   "execution_count": 4,
   "id": "390e0c54",
   "metadata": {},
   "outputs": [
    {
     "name": "stdout",
     "output_type": "stream",
     "text": [
      "Hello, A!\n",
      "Hello, H!\n",
      "Hello, M!\n",
      "Hello, E!\n",
      "Hello, D!\n"
     ]
    }
   ],
   "source": [
    "greet_users(\"Ahmed\")"
   ]
  },
  {
   "cell_type": "code",
   "execution_count": 5,
   "id": "5155ba7b",
   "metadata": {},
   "outputs": [
    {
     "name": "stdout",
     "output_type": "stream",
     "text": [
      "Hello, A!\n",
      "Hello, R!\n",
      "Hello, E!\n",
      "Hello, E!\n",
      "Hello, B!\n",
      "Hello, A!\n"
     ]
    }
   ],
   "source": [
    "greet_users(\"Areeba\")"
   ]
  },
  {
   "cell_type": "code",
   "execution_count": 15,
   "id": "2e434afa",
   "metadata": {},
   "outputs": [],
   "source": [
    "unprinted_designs=[\"iphone\",\"samsung\",\"nokia\"]\n",
    "completed_models=[]"
   ]
  },
  {
   "cell_type": "code",
   "execution_count": 16,
   "id": "952758e7",
   "metadata": {},
   "outputs": [
    {
     "name": "stdout",
     "output_type": "stream",
     "text": [
      "Printing model:nokia\n",
      "Printing model:samsung\n",
      "Printing model:iphone\n",
      "\n",
      "The following have been printed:\n",
      "nokia\n",
      "samsung\n",
      "iphone\n"
     ]
    }
   ],
   "source": [
    "while unprinted_designs:\n",
    "    current_design= unprinted_designs.pop()\n",
    "    \n",
    "    print(\"Printing model:\" + current_design)\n",
    "    completed_models.append(current_design)\n",
    "    \n",
    "print(\"\\nThe following have been printed:\") \n",
    "for completed_model in completed_models:\n",
    "    print(completed_model)"
   ]
  },
  {
   "cell_type": "code",
   "execution_count": 19,
   "id": "f1025ab6",
   "metadata": {},
   "outputs": [
    {
     "data": {
      "text/plain": [
       "[]"
      ]
     },
     "execution_count": 19,
     "metadata": {},
     "output_type": "execute_result"
    }
   ],
   "source": [
    "unprinted_designs"
   ]
  },
  {
   "cell_type": "code",
   "execution_count": 21,
   "id": "ce78a256",
   "metadata": {},
   "outputs": [],
   "source": [
    "def print_models(unprinted_designs,completed_models):\n",
    "    while unprinted_designs:\n",
    "        current_design= unprinted_designs.pop()\n",
    "        print(\"Printing model:\" + current_design)\n",
    "        completed_models.append(current_design)"
   ]
  },
  {
   "cell_type": "code",
   "execution_count": 22,
   "id": "5411030a",
   "metadata": {},
   "outputs": [],
   "source": [
    "def show_completed_models(completed_models):\n",
    "    print(\"\\nThe following model have been printed:\")\n",
    "    for completed_model in completed_models:\n",
    "        print(completed_model)"
   ]
  },
  {
   "cell_type": "code",
   "execution_count": 23,
   "id": "25778ab0",
   "metadata": {},
   "outputs": [],
   "source": [
    "unprinted_designs=['iphone','samsung','nokia']\n",
    "completed_models=[]"
   ]
  },
  {
   "cell_type": "code",
   "execution_count": 24,
   "id": "3426f2f3",
   "metadata": {},
   "outputs": [
    {
     "name": "stdout",
     "output_type": "stream",
     "text": [
      "Printing model:nokia\n",
      "Printing model:samsung\n",
      "Printing model:iphone\n"
     ]
    }
   ],
   "source": [
    "print_models(unprinted_designs[:],completed_models)"
   ]
  },
  {
   "cell_type": "code",
   "execution_count": 25,
   "id": "93bf1f09",
   "metadata": {},
   "outputs": [],
   "source": [
    "a=[1,2,3]"
   ]
  },
  {
   "cell_type": "code",
   "execution_count": 26,
   "id": "d4ebec9d",
   "metadata": {},
   "outputs": [],
   "source": [
    "b=a #reference"
   ]
  },
  {
   "cell_type": "code",
   "execution_count": 27,
   "id": "efbe154c",
   "metadata": {},
   "outputs": [
    {
     "data": {
      "text/plain": [
       "3"
      ]
     },
     "execution_count": 27,
     "metadata": {},
     "output_type": "execute_result"
    }
   ],
   "source": [
    "b.pop()"
   ]
  },
  {
   "cell_type": "code",
   "execution_count": 28,
   "id": "3d996891",
   "metadata": {},
   "outputs": [
    {
     "data": {
      "text/plain": [
       "[1, 2]"
      ]
     },
     "execution_count": 28,
     "metadata": {},
     "output_type": "execute_result"
    }
   ],
   "source": [
    "a"
   ]
  },
  {
   "cell_type": "code",
   "execution_count": 29,
   "id": "95abe8c1",
   "metadata": {},
   "outputs": [],
   "source": [
    "b= a.copy() # by value"
   ]
  },
  {
   "cell_type": "code",
   "execution_count": 30,
   "id": "7cfd82b1",
   "metadata": {},
   "outputs": [
    {
     "data": {
      "text/plain": [
       "[1, 2]"
      ]
     },
     "execution_count": 30,
     "metadata": {},
     "output_type": "execute_result"
    }
   ],
   "source": [
    "b"
   ]
  },
  {
   "cell_type": "code",
   "execution_count": 31,
   "id": "d771c484",
   "metadata": {},
   "outputs": [],
   "source": [
    "c=a[:] #by value"
   ]
  },
  {
   "cell_type": "code",
   "execution_count": 32,
   "id": "bf60c69c",
   "metadata": {},
   "outputs": [
    {
     "data": {
      "text/plain": [
       "[1, 2]"
      ]
     },
     "execution_count": 32,
     "metadata": {},
     "output_type": "execute_result"
    }
   ],
   "source": [
    "c"
   ]
  },
  {
   "cell_type": "markdown",
   "id": "df19a5df",
   "metadata": {},
   "source": [
    "#passing an arbitrary number of  arguments"
   ]
  },
  {
   "cell_type": "code",
   "execution_count": 34,
   "id": "17d9ae04",
   "metadata": {},
   "outputs": [],
   "source": [
    "def sumAll(num1,num2):\n",
    "    total=num1+num"
   ]
  },
  {
   "cell_type": "code",
   "execution_count": 35,
   "id": "8ec937f8",
   "metadata": {},
   "outputs": [
    {
     "ename": "TypeError",
     "evalue": "sumAll() missing 1 required positional argument: 'num2'",
     "output_type": "error",
     "traceback": [
      "\u001b[1;31m---------------------------------------------------------------------------\u001b[0m",
      "\u001b[1;31mTypeError\u001b[0m                                 Traceback (most recent call last)",
      "\u001b[1;32m<ipython-input-35-35b5c623b8e2>\u001b[0m in \u001b[0;36m<module>\u001b[1;34m\u001b[0m\n\u001b[0;32m      1\u001b[0m \u001b[1;31m#error due to 1 less parameter\u001b[0m\u001b[1;33m\u001b[0m\u001b[1;33m\u001b[0m\u001b[1;33m\u001b[0m\u001b[0m\n\u001b[1;32m----> 2\u001b[1;33m \u001b[0msumAll\u001b[0m\u001b[1;33m(\u001b[0m\u001b[1;36m12\u001b[0m\u001b[1;33m)\u001b[0m\u001b[1;33m\u001b[0m\u001b[1;33m\u001b[0m\u001b[0m\n\u001b[0m",
      "\u001b[1;31mTypeError\u001b[0m: sumAll() missing 1 required positional argument: 'num2'"
     ]
    }
   ],
   "source": [
    "#error due to 1 less parameter\n",
    "sumAll(12)"
   ]
  },
  {
   "cell_type": "code",
   "execution_count": 36,
   "id": "a8bd119a",
   "metadata": {},
   "outputs": [],
   "source": [
    "def sumAll (num1=2,num2=0):\n",
    "    return num1+num2"
   ]
  },
  {
   "cell_type": "code",
   "execution_count": 38,
   "id": "c21e9e75",
   "metadata": {},
   "outputs": [
    {
     "data": {
      "text/plain": [
       "26"
      ]
     },
     "execution_count": 38,
     "metadata": {},
     "output_type": "execute_result"
    }
   ],
   "source": [
    "sumAll(12,14)"
   ]
  },
  {
   "cell_type": "code",
   "execution_count": 39,
   "id": "304a3f52",
   "metadata": {},
   "outputs": [
    {
     "data": {
      "text/plain": [
       "12"
      ]
     },
     "execution_count": 39,
     "metadata": {},
     "output_type": "execute_result"
    }
   ],
   "source": [
    "sumAll(12)"
   ]
  },
  {
   "cell_type": "code",
   "execution_count": 40,
   "id": "1e5d0ba6",
   "metadata": {},
   "outputs": [
    {
     "data": {
      "text/plain": [
       "0"
      ]
     },
     "execution_count": 40,
     "metadata": {},
     "output_type": "execute_result"
    }
   ],
   "source": [
    "sumAll(0)"
   ]
  },
  {
   "cell_type": "code",
   "execution_count": 45,
   "id": "21f321fd",
   "metadata": {},
   "outputs": [],
   "source": [
    "def make_pizza(*toppings):\n",
    "    \n",
    "# *topping is such type of parameter that can hold any number of values supplied to it.\n",
    "    print(toppings)"
   ]
  },
  {
   "cell_type": "code",
   "execution_count": 46,
   "id": "f5c25c99",
   "metadata": {},
   "outputs": [
    {
     "name": "stdout",
     "output_type": "stream",
     "text": [
      "('pepperoni',)\n"
     ]
    }
   ],
   "source": [
    "make_pizza('pepperoni')"
   ]
  },
  {
   "cell_type": "code",
   "execution_count": 48,
   "id": "a51ba294",
   "metadata": {},
   "outputs": [
    {
     "name": "stdout",
     "output_type": "stream",
     "text": [
      "('mushrooms', 'greenpapers', 'extra cheese')\n"
     ]
    }
   ],
   "source": [
    "make_pizza('mushrooms','greenpapers','extra cheese')"
   ]
  },
  {
   "cell_type": "code",
   "execution_count": 51,
   "id": "adf72a40",
   "metadata": {},
   "outputs": [],
   "source": [
    "def make_pizza(*toppings):\n",
    "    print(\"\\nMaking a pizza with the following toppings:\")\n",
    "    for topping in toppings:\n",
    "        print(\"-\"+topping)"
   ]
  },
  {
   "cell_type": "code",
   "execution_count": 52,
   "id": "51fc9cc1",
   "metadata": {},
   "outputs": [
    {
     "name": "stdout",
     "output_type": "stream",
     "text": [
      "\n",
      "Making a pizza with the following toppings:\n",
      "-pepperoni\n",
      "\n",
      "Making a pizza with the following toppings:\n",
      "-mushroom\n",
      "-green_paper\n",
      "-extra_cheese\n"
     ]
    }
   ],
   "source": [
    "make_pizza(\"pepperoni\")\n",
    "make_pizza(\"mushroom\",\"green_paper\",\"extra_cheese\")"
   ]
  },
  {
   "cell_type": "markdown",
   "id": "b7836721",
   "metadata": {},
   "source": [
    "# Using arbitrary keyword arguments"
   ]
  },
  {
   "cell_type": "code",
   "execution_count": 53,
   "id": "edb2bc33",
   "metadata": {},
   "outputs": [],
   "source": [
    "def build_profile(first,last,**user_info):\n",
    "    profile={}\n",
    "    profile['first_name']=first\n",
    "    profile['last_name']=last\n",
    "    for key,value in user_info.items():\n",
    "        profile[key]=value\n",
    "        return profile"
   ]
  },
  {
   "cell_type": "code",
   "execution_count": 56,
   "id": "dc6a219c",
   "metadata": {},
   "outputs": [],
   "source": [
    "user_profile=build_profile('alber','einstein',location='princeton',field='physics',contact='123456')"
   ]
  },
  {
   "cell_type": "code",
   "execution_count": 55,
   "id": "1348139c",
   "metadata": {},
   "outputs": [
    {
     "ename": "NameError",
     "evalue": "name 'user_profile' is not defined",
     "output_type": "error",
     "traceback": [
      "\u001b[1;31m---------------------------------------------------------------------------\u001b[0m",
      "\u001b[1;31mNameError\u001b[0m                                 Traceback (most recent call last)",
      "\u001b[1;32m<ipython-input-55-5f8a33589b2e>\u001b[0m in \u001b[0;36m<module>\u001b[1;34m\u001b[0m\n\u001b[1;32m----> 1\u001b[1;33m \u001b[0mprint\u001b[0m\u001b[1;33m(\u001b[0m\u001b[0muser_profile\u001b[0m\u001b[1;33m)\u001b[0m\u001b[1;33m\u001b[0m\u001b[1;33m\u001b[0m\u001b[0m\n\u001b[0m",
      "\u001b[1;31mNameError\u001b[0m: name 'user_profile' is not defined"
     ]
    }
   ],
   "source": [
    "print(user_profile)"
   ]
  },
  {
   "cell_type": "code",
   "execution_count": null,
   "id": "98f8f6f2",
   "metadata": {},
   "outputs": [],
   "source": []
  }
 ],
 "metadata": {
  "kernelspec": {
   "display_name": "Python 3",
   "language": "python",
   "name": "python3"
  },
  "language_info": {
   "codemirror_mode": {
    "name": "ipython",
    "version": 3
   },
   "file_extension": ".py",
   "mimetype": "text/x-python",
   "name": "python",
   "nbconvert_exporter": "python",
   "pygments_lexer": "ipython3",
   "version": "3.8.8"
  }
 },
 "nbformat": 4,
 "nbformat_minor": 5
}
